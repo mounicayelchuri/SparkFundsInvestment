{
 "cells": [
  {
   "cell_type": "code",
   "execution_count": 295,
   "metadata": {},
   "outputs": [],
   "source": [
    "import pandas as pd\n",
    "import numpy as np\n",
    "import matplotlib.pyplot as plt\n",
    "import seaborn as sns"
   ]
  },
  {
   "cell_type": "markdown",
   "metadata": {},
   "source": [
    "# Loading the data\n"
   ]
  },
  {
   "cell_type": "markdown",
   "metadata": {},
   "source": [
    "* Read companies.csv file and round2-csv file with encoding\n",
    "* Remove the extra spacing in the beginning and ending of permalink in both dataframes\n",
    "* Rename the column name to company_permalink in companies table\n",
    "* Join the two dataframes and create master_frame"
   ]
  },
  {
   "cell_type": "code",
   "execution_count": 296,
   "metadata": {},
   "outputs": [],
   "source": [
    "# Read both csv files\n",
    "companies = pd.read_csv('companies.csv',encoding='mbcs')\n",
    "round2= pd.read_csv('rounds2.csv',encoding='mbcs')"
   ]
  },
  {
   "cell_type": "code",
   "execution_count": 297,
   "metadata": {},
   "outputs": [],
   "source": [
    "# Remove the extra spacing in the beginning and ending \n",
    "companies.permalink = companies.permalink.apply(lambda x : x.lower().strip())\n",
    "round2.company_permalink = round2.company_permalink.apply(lambda x : x.lower().strip())"
   ]
  },
  {
   "cell_type": "code",
   "execution_count": 298,
   "metadata": {},
   "outputs": [],
   "source": [
    "# rename the column name to company_permalink in companies table\n",
    "companies=companies.rename(columns = {'permalink' :'company_permalink'})"
   ]
  },
  {
   "cell_type": "code",
   "execution_count": 299,
   "metadata": {},
   "outputs": [
    {
     "data": {
      "text/plain": [
       "(66368, 10)"
      ]
     },
     "execution_count": 299,
     "metadata": {},
     "output_type": "execute_result"
    }
   ],
   "source": [
    "companies.shape"
   ]
  },
  {
   "cell_type": "code",
   "execution_count": 300,
   "metadata": {},
   "outputs": [
    {
     "data": {
      "text/plain": [
       "(114949, 6)"
      ]
     },
     "execution_count": 300,
     "metadata": {},
     "output_type": "execute_result"
    }
   ],
   "source": [
    "round2.shape"
   ]
  },
  {
   "cell_type": "code",
   "execution_count": 301,
   "metadata": {},
   "outputs": [
    {
     "data": {
      "text/plain": [
       "66368"
      ]
     },
     "execution_count": 301,
     "metadata": {},
     "output_type": "execute_result"
    }
   ],
   "source": [
    "# 1.1 How many unique companies are present in rounds2?\n",
    "len(set(round2.company_permalink))"
   ]
  },
  {
   "cell_type": "code",
   "execution_count": 302,
   "metadata": {},
   "outputs": [
    {
     "data": {
      "text/plain": [
       "66368"
      ]
     },
     "execution_count": 302,
     "metadata": {},
     "output_type": "execute_result"
    }
   ],
   "source": [
    "# 1.2 How many unique companies are present in companies?\n",
    "len(set(companies.company_permalink))"
   ]
  },
  {
   "cell_type": "code",
   "execution_count": 303,
   "metadata": {},
   "outputs": [
    {
     "name": "stdout",
     "output_type": "stream",
     "text": [
      "N\n"
     ]
    }
   ],
   "source": [
    "# 1.4 Are there any companies in the rounds2 file which are not present in companies? \n",
    "#Answer yes or no: Y/N\n",
    "# Approach : get the difference in company_permalink set and print Y and N\n",
    "if(len(set(round2.company_permalink)-set(companies.company_permalink)) ==0):\n",
    "    print('N')\n",
    "else :\n",
    "    print('Y')"
   ]
  },
  {
   "cell_type": "code",
   "execution_count": 304,
   "metadata": {},
   "outputs": [],
   "source": [
    "# Join the two dataframes\n",
    "master_frame=pd.merge(companies,round2,on='company_permalink', how='inner')"
   ]
  },
  {
   "cell_type": "code",
   "execution_count": 305,
   "metadata": {},
   "outputs": [
    {
     "data": {
      "text/plain": [
       "(114949, 15)"
      ]
     },
     "execution_count": 305,
     "metadata": {},
     "output_type": "execute_result"
    }
   ],
   "source": [
    "# 1.5 How many observations are present in master_frame\n",
    "master_frame.shape"
   ]
  },
  {
   "cell_type": "markdown",
   "metadata": {},
   "source": [
    "## Data Cleaning"
   ]
  },
  {
   "cell_type": "markdown",
   "metadata": {},
   "source": [
    "1. Check if there are rows having country_code as null but state_code, city,region as not null .If no such rows are found then we can remove these columns as we intrested in country_code only. \n",
    "2. Removing columns like homepage_url ,funding_round_permalink,founded_at which are unique to company and are not required in analysis.\n",
    "3. Removing column funding_round_code as we are not interested on specific round\n",
    "4. Remove rows which are not having raised_amount_usd as null\n",
    "5. Transform amount in USD to amount in million USD notation.\n",
    "6. Remove rows not having country code.\n",
    "7. Remove rows not having category_list.\n",
    "8. Remove rows which are having status as closed.\n",
    "9. Change the data type of funded_at column.\n",
    "10. Create a new column which has the total investments of the company(sum of all rounds investment for that company)\n",
    "11. Sort the dataframe based on funded_at"
   ]
  },
  {
   "cell_type": "code",
   "execution_count": 306,
   "metadata": {},
   "outputs": [
    {
     "data": {
      "text/plain": [
       "Index(['company_permalink', 'name', 'homepage_url', 'category_list', 'status',\n",
       "       'country_code', 'state_code', 'region', 'city', 'founded_at',\n",
       "       'funding_round_permalink', 'funding_round_type', 'funding_round_code',\n",
       "       'funded_at', 'raised_amount_usd'],\n",
       "      dtype='object')"
      ]
     },
     "execution_count": 306,
     "metadata": {},
     "output_type": "execute_result"
    }
   ],
   "source": [
    "# check Columns present in master_frame \n",
    "master_frame.columns"
   ]
  },
  {
   "cell_type": "code",
   "execution_count": 307,
   "metadata": {},
   "outputs": [
    {
     "data": {
      "text/plain": [
       "0"
      ]
     },
     "execution_count": 307,
     "metadata": {},
     "output_type": "execute_result"
    }
   ],
   "source": [
    "#Checking if there are any rows where country is null and state_code is not null\n",
    "master_frame[master_frame.country_code.isnull()].state_code.notnull().sum()"
   ]
  },
  {
   "cell_type": "code",
   "execution_count": 308,
   "metadata": {},
   "outputs": [
    {
     "data": {
      "text/plain": [
       "0"
      ]
     },
     "execution_count": 308,
     "metadata": {},
     "output_type": "execute_result"
    }
   ],
   "source": [
    "#Checking if there are any rows where country is null and region is not null\n",
    "master_frame[master_frame.country_code.isnull()].region.notnull().sum()"
   ]
  },
  {
   "cell_type": "code",
   "execution_count": 309,
   "metadata": {},
   "outputs": [
    {
     "data": {
      "text/plain": [
       "0"
      ]
     },
     "execution_count": 309,
     "metadata": {},
     "output_type": "execute_result"
    }
   ],
   "source": [
    "#Checking if there are any rows where country is null and city is not null\n",
    "master_frame[master_frame.country_code.isnull()].city.notnull().sum()"
   ]
  },
  {
   "cell_type": "code",
   "execution_count": 310,
   "metadata": {},
   "outputs": [
    {
     "data": {
      "text/plain": [
       "1.0"
      ]
     },
     "execution_count": 310,
     "metadata": {},
     "output_type": "execute_result"
    }
   ],
   "source": [
    "len(set(master_frame.funding_round_permalink))/ len(master_frame.index)"
   ]
  },
  {
   "cell_type": "code",
   "execution_count": 311,
   "metadata": {},
   "outputs": [],
   "source": [
    "master_frame = master_frame.drop(columns=['homepage_url','state_code','region', 'city','funding_round_permalink','founded_at','funding_round_code'])"
   ]
  },
  {
   "cell_type": "code",
   "execution_count": 312,
   "metadata": {},
   "outputs": [
    {
     "data": {
      "text/plain": [
       "Index(['company_permalink', 'name', 'category_list', 'status', 'country_code',\n",
       "       'funding_round_type', 'funded_at', 'raised_amount_usd'],\n",
       "      dtype='object')"
      ]
     },
     "execution_count": 312,
     "metadata": {},
     "output_type": "execute_result"
    }
   ],
   "source": [
    "master_frame.columns"
   ]
  },
  {
   "cell_type": "code",
   "execution_count": 313,
   "metadata": {},
   "outputs": [
    {
     "data": {
      "text/plain": [
       "company_permalink         0\n",
       "name                      1\n",
       "category_list          3410\n",
       "status                    0\n",
       "country_code           8678\n",
       "funding_round_type        0\n",
       "funded_at                 0\n",
       "raised_amount_usd     19990\n",
       "dtype: int64"
      ]
     },
     "execution_count": 313,
     "metadata": {},
     "output_type": "execute_result"
    }
   ],
   "source": [
    "# Analysing the number of  null values per column\n",
    "master_frame.isnull().sum()"
   ]
  },
  {
   "cell_type": "code",
   "execution_count": 314,
   "metadata": {},
   "outputs": [],
   "source": [
    "# As we are interested in finding the raised_amount_usd to be in 5 Million to 15 Million.\n",
    "#We drop the rows where amount is null\n",
    "master_frame= master_frame[~master_frame.raised_amount_usd.isnull()]"
   ]
  },
  {
   "cell_type": "code",
   "execution_count": 315,
   "metadata": {},
   "outputs": [
    {
     "data": {
      "text/plain": [
       "(94959, 8)"
      ]
     },
     "execution_count": 315,
     "metadata": {},
     "output_type": "execute_result"
    }
   ],
   "source": [
    "master_frame.shape"
   ]
  },
  {
   "cell_type": "code",
   "execution_count": 316,
   "metadata": {},
   "outputs": [],
   "source": [
    "#Transform amount in USD to amount in million USD notation\n",
    "master_frame.raised_amount_usd = master_frame.raised_amount_usd.apply(lambda x :round( (x/1000000),2))"
   ]
  },
  {
   "cell_type": "code",
   "execution_count": 317,
   "metadata": {},
   "outputs": [
    {
     "data": {
      "text/plain": [
       "5851"
      ]
     },
     "execution_count": 317,
     "metadata": {},
     "output_type": "execute_result"
    }
   ],
   "source": [
    "\n",
    "master_frame.country_code.isnull().sum()"
   ]
  },
  {
   "cell_type": "code",
   "execution_count": 318,
   "metadata": {},
   "outputs": [],
   "source": [
    "# Remove the rows having country_code null\n",
    "master_frame = master_frame[~master_frame.country_code.isnull()]"
   ]
  },
  {
   "cell_type": "code",
   "execution_count": 319,
   "metadata": {},
   "outputs": [
    {
     "data": {
      "text/plain": [
       "company_permalink       0\n",
       "name                    1\n",
       "category_list         579\n",
       "status                  0\n",
       "country_code            0\n",
       "funding_round_type      0\n",
       "funded_at               0\n",
       "raised_amount_usd       0\n",
       "dtype: int64"
      ]
     },
     "execution_count": 319,
     "metadata": {},
     "output_type": "execute_result"
    }
   ],
   "source": [
    "master_frame.isnull().sum()"
   ]
  },
  {
   "cell_type": "code",
   "execution_count": 320,
   "metadata": {},
   "outputs": [],
   "source": [
    "# Remove the rows having category_list null\n",
    "master_frame = master_frame[~master_frame.category_list.isnull()]"
   ]
  },
  {
   "cell_type": "code",
   "execution_count": 321,
   "metadata": {},
   "outputs": [
    {
     "data": {
      "text/plain": [
       "company_permalink     0\n",
       "name                  1\n",
       "category_list         0\n",
       "status                0\n",
       "country_code          0\n",
       "funding_round_type    0\n",
       "funded_at             0\n",
       "raised_amount_usd     0\n",
       "dtype: int64"
      ]
     },
     "execution_count": 321,
     "metadata": {},
     "output_type": "execute_result"
    }
   ],
   "source": [
    "master_frame.isnull().sum()"
   ]
  },
  {
   "cell_type": "code",
   "execution_count": 322,
   "metadata": {},
   "outputs": [
    {
     "data": {
      "text/plain": [
       "operating    69041\n",
       "acquired      9811\n",
       "closed        5683\n",
       "ipo           3994\n",
       "Name: status, dtype: int64"
      ]
     },
     "execution_count": 322,
     "metadata": {},
     "output_type": "execute_result"
    }
   ],
   "source": [
    "master_frame.status.value_counts()"
   ]
  },
  {
   "cell_type": "code",
   "execution_count": 323,
   "metadata": {},
   "outputs": [],
   "source": [
    "# Removing rows having status as closed\n",
    "master_frame= master_frame[~(master_frame.status=='closed')]"
   ]
  },
  {
   "cell_type": "code",
   "execution_count": 324,
   "metadata": {},
   "outputs": [
    {
     "data": {
      "text/plain": [
       "operating    69041\n",
       "acquired      9811\n",
       "ipo           3994\n",
       "Name: status, dtype: int64"
      ]
     },
     "execution_count": 324,
     "metadata": {},
     "output_type": "execute_result"
    }
   ],
   "source": [
    "master_frame.status.value_counts()"
   ]
  },
  {
   "cell_type": "code",
   "execution_count": 325,
   "metadata": {},
   "outputs": [
    {
     "data": {
      "text/plain": [
       "company_permalink     0\n",
       "name                  0\n",
       "category_list         0\n",
       "status                0\n",
       "country_code          0\n",
       "funding_round_type    0\n",
       "funded_at             0\n",
       "raised_amount_usd     0\n",
       "dtype: int64"
      ]
     },
     "execution_count": 325,
     "metadata": {},
     "output_type": "execute_result"
    }
   ],
   "source": [
    "master_frame.isnull().sum()"
   ]
  },
  {
   "cell_type": "code",
   "execution_count": 326,
   "metadata": {},
   "outputs": [
    {
     "data": {
      "text/plain": [
       "(82846, 8)"
      ]
     },
     "execution_count": 326,
     "metadata": {},
     "output_type": "execute_result"
    }
   ],
   "source": [
    "master_frame.shape"
   ]
  },
  {
   "cell_type": "code",
   "execution_count": 327,
   "metadata": {},
   "outputs": [
    {
     "data": {
      "text/plain": [
       "0.2792803765148022"
      ]
     },
     "execution_count": 327,
     "metadata": {},
     "output_type": "execute_result"
    }
   ],
   "source": [
    "#28 percent rows are removed as part of data cleaning\n",
    "(114949-82846)/114949 "
   ]
  },
  {
   "cell_type": "code",
   "execution_count": 328,
   "metadata": {},
   "outputs": [],
   "source": [
    "# change funded_at\n",
    "import datetime\n",
    "master_frame.funded_at = master_frame.funded_at.apply(lambda x :datetime.datetime.strptime(x, \"%d-%m-%Y\").date() )"
   ]
  },
  {
   "cell_type": "code",
   "execution_count": 329,
   "metadata": {},
   "outputs": [
    {
     "data": {
      "text/html": [
       "<div>\n",
       "<style scoped>\n",
       "    .dataframe tbody tr th:only-of-type {\n",
       "        vertical-align: middle;\n",
       "    }\n",
       "\n",
       "    .dataframe tbody tr th {\n",
       "        vertical-align: top;\n",
       "    }\n",
       "\n",
       "    .dataframe thead th {\n",
       "        text-align: right;\n",
       "    }\n",
       "</style>\n",
       "<table border=\"1\" class=\"dataframe\">\n",
       "  <thead>\n",
       "    <tr style=\"text-align: right;\">\n",
       "      <th></th>\n",
       "      <th>company_permalink</th>\n",
       "      <th>name</th>\n",
       "      <th>category_list</th>\n",
       "      <th>status</th>\n",
       "      <th>country_code</th>\n",
       "      <th>funding_round_type</th>\n",
       "      <th>funded_at</th>\n",
       "      <th>raised_amount_usd</th>\n",
       "    </tr>\n",
       "  </thead>\n",
       "  <tbody>\n",
       "    <tr>\n",
       "      <td>0</td>\n",
       "      <td>/organization/-fame</td>\n",
       "      <td>#fame</td>\n",
       "      <td>Media</td>\n",
       "      <td>operating</td>\n",
       "      <td>IND</td>\n",
       "      <td>venture</td>\n",
       "      <td>2015-01-05</td>\n",
       "      <td>10.00</td>\n",
       "    </tr>\n",
       "    <tr>\n",
       "      <td>2</td>\n",
       "      <td>/organization/-qounter</td>\n",
       "      <td>:Qounter</td>\n",
       "      <td>Application Platforms|Real Time|Social Network...</td>\n",
       "      <td>operating</td>\n",
       "      <td>USA</td>\n",
       "      <td>seed</td>\n",
       "      <td>2014-03-01</td>\n",
       "      <td>0.70</td>\n",
       "    </tr>\n",
       "    <tr>\n",
       "      <td>4</td>\n",
       "      <td>/organization/0-6-com</td>\n",
       "      <td>0-6.com</td>\n",
       "      <td>Curated Web</td>\n",
       "      <td>operating</td>\n",
       "      <td>CHN</td>\n",
       "      <td>venture</td>\n",
       "      <td>2008-03-19</td>\n",
       "      <td>2.00</td>\n",
       "    </tr>\n",
       "    <tr>\n",
       "      <td>6</td>\n",
       "      <td>/organization/01games-technology</td>\n",
       "      <td>01Games Technology</td>\n",
       "      <td>Games</td>\n",
       "      <td>operating</td>\n",
       "      <td>HKG</td>\n",
       "      <td>undisclosed</td>\n",
       "      <td>2014-07-01</td>\n",
       "      <td>0.04</td>\n",
       "    </tr>\n",
       "    <tr>\n",
       "      <td>7</td>\n",
       "      <td>/organization/0ndine-biomedical-inc</td>\n",
       "      <td>Ondine Biomedical Inc.</td>\n",
       "      <td>Biotechnology</td>\n",
       "      <td>operating</td>\n",
       "      <td>CAN</td>\n",
       "      <td>seed</td>\n",
       "      <td>2009-09-11</td>\n",
       "      <td>0.04</td>\n",
       "    </tr>\n",
       "  </tbody>\n",
       "</table>\n",
       "</div>"
      ],
      "text/plain": [
       "                     company_permalink                    name  \\\n",
       "0                  /organization/-fame                   #fame   \n",
       "2               /organization/-qounter                :Qounter   \n",
       "4                /organization/0-6-com                 0-6.com   \n",
       "6     /organization/01games-technology      01Games Technology   \n",
       "7  /organization/0ndine-biomedical-inc  Ondine Biomedical Inc.   \n",
       "\n",
       "                                       category_list     status country_code  \\\n",
       "0                                              Media  operating          IND   \n",
       "2  Application Platforms|Real Time|Social Network...  operating          USA   \n",
       "4                                        Curated Web  operating          CHN   \n",
       "6                                              Games  operating          HKG   \n",
       "7                                      Biotechnology  operating          CAN   \n",
       "\n",
       "  funding_round_type   funded_at  raised_amount_usd  \n",
       "0            venture  2015-01-05              10.00  \n",
       "2               seed  2014-03-01               0.70  \n",
       "4            venture  2008-03-19               2.00  \n",
       "6        undisclosed  2014-07-01               0.04  \n",
       "7               seed  2009-09-11               0.04  "
      ]
     },
     "execution_count": 329,
     "metadata": {},
     "output_type": "execute_result"
    }
   ],
   "source": [
    "master_frame.head()"
   ]
  },
  {
   "cell_type": "code",
   "execution_count": 330,
   "metadata": {},
   "outputs": [
    {
     "data": {
      "text/plain": [
       "(82846, 8)"
      ]
     },
     "execution_count": 330,
     "metadata": {},
     "output_type": "execute_result"
    }
   ],
   "source": [
    "master_frame.shape"
   ]
  },
  {
   "cell_type": "code",
   "execution_count": 331,
   "metadata": {},
   "outputs": [],
   "source": [
    "# get sum of amounts raised by a company\n",
    "totals=pd.DataFrame(master_frame.groupby('company_permalink')['raised_amount_usd'].sum())"
   ]
  },
  {
   "cell_type": "code",
   "execution_count": 332,
   "metadata": {},
   "outputs": [],
   "source": [
    "totals.reset_index()\n",
    "totals= totals.rename(columns={'raised_amount_usd':'total_amount_invested'})"
   ]
  },
  {
   "cell_type": "code",
   "execution_count": 333,
   "metadata": {},
   "outputs": [],
   "source": [
    "# add the total_amount_invested to master_frame\n",
    "master_frame= master_frame.merge(totals,how='inner',on='company_permalink')"
   ]
  },
  {
   "cell_type": "code",
   "execution_count": 334,
   "metadata": {},
   "outputs": [],
   "source": [
    "# sort the dataframe based on funded_at\n",
    "master_frame= master_frame.sort_values(by='funded_at', ascending= False)"
   ]
  },
  {
   "cell_type": "code",
   "execution_count": 335,
   "metadata": {},
   "outputs": [
    {
     "data": {
      "text/plain": [
       "(82846, 9)"
      ]
     },
     "execution_count": 335,
     "metadata": {},
     "output_type": "execute_result"
    }
   ],
   "source": [
    "master_frame.shape"
   ]
  },
  {
   "cell_type": "markdown",
   "metadata": {},
   "source": [
    "## Funding Type Analysis\n"
   ]
  },
  {
   "cell_type": "markdown",
   "metadata": {},
   "source": [
    "1. Get rows having funding_type as either venture or seed or angel or private_equity\n",
    "2. Analyze mean, median(most representative value) and length for the four funding types\n",
    "3. Choose the investment type based on the requirement(5 millions to 15 millions USD)\n",
    "4. Choose companies having their latest funding round type(based on recent funded_at date) as the above investment type."
   ]
  },
  {
   "cell_type": "code",
   "execution_count": 336,
   "metadata": {},
   "outputs": [],
   "source": [
    "# Funding types we are interested in \n",
    "funding_types=['venture','seed','angel','private_equity']"
   ]
  },
  {
   "cell_type": "code",
   "execution_count": 337,
   "metadata": {},
   "outputs": [],
   "source": [
    "master_frame= master_frame[master_frame.funding_round_type.isin(funding_types)]"
   ]
  },
  {
   "cell_type": "code",
   "execution_count": 338,
   "metadata": {},
   "outputs": [
    {
     "data": {
      "text/plain": [
       "(70162, 9)"
      ]
     },
     "execution_count": 338,
     "metadata": {},
     "output_type": "execute_result"
    }
   ],
   "source": [
    "master_frame.shape"
   ]
  },
  {
   "cell_type": "code",
   "execution_count": 339,
   "metadata": {},
   "outputs": [],
   "source": [
    "# analyze mean , median and length of the four funding types\n",
    "df1=master_frame.groupby('funding_round_type')['raised_amount_usd'].agg([np.mean,np.median,len]).apply(lambda x : round(x,2))"
   ]
  },
  {
   "cell_type": "code",
   "execution_count": 340,
   "metadata": {},
   "outputs": [],
   "source": [
    "df1=df1.rename(columns ={'mean':'Mean','median':'Median'})"
   ]
  },
  {
   "cell_type": "code",
   "execution_count": 341,
   "metadata": {},
   "outputs": [
    {
     "data": {
      "text/html": [
       "<div>\n",
       "<style scoped>\n",
       "    .dataframe tbody tr th:only-of-type {\n",
       "        vertical-align: middle;\n",
       "    }\n",
       "\n",
       "    .dataframe tbody tr th {\n",
       "        vertical-align: top;\n",
       "    }\n",
       "\n",
       "    .dataframe thead th {\n",
       "        text-align: right;\n",
       "    }\n",
       "</style>\n",
       "<table border=\"1\" class=\"dataframe\">\n",
       "  <thead>\n",
       "    <tr style=\"text-align: right;\">\n",
       "      <th></th>\n",
       "      <th>Mean</th>\n",
       "      <th>Median</th>\n",
       "      <th>len</th>\n",
       "    </tr>\n",
       "    <tr>\n",
       "      <th>funding_round_type</th>\n",
       "      <th></th>\n",
       "      <th></th>\n",
       "      <th></th>\n",
       "    </tr>\n",
       "  </thead>\n",
       "  <tbody>\n",
       "    <tr>\n",
       "      <td>angel</td>\n",
       "      <td>1.00</td>\n",
       "      <td>0.42</td>\n",
       "      <td>3960.0</td>\n",
       "    </tr>\n",
       "    <tr>\n",
       "      <td>private_equity</td>\n",
       "      <td>75.98</td>\n",
       "      <td>21.00</td>\n",
       "      <td>1723.0</td>\n",
       "    </tr>\n",
       "    <tr>\n",
       "      <td>seed</td>\n",
       "      <td>0.76</td>\n",
       "      <td>0.31</td>\n",
       "      <td>19731.0</td>\n",
       "    </tr>\n",
       "    <tr>\n",
       "      <td>venture</td>\n",
       "      <td>11.89</td>\n",
       "      <td>5.00</td>\n",
       "      <td>44748.0</td>\n",
       "    </tr>\n",
       "  </tbody>\n",
       "</table>\n",
       "</div>"
      ],
      "text/plain": [
       "                     Mean  Median      len\n",
       "funding_round_type                        \n",
       "angel                1.00    0.42   3960.0\n",
       "private_equity      75.98   21.00   1723.0\n",
       "seed                 0.76    0.31  19731.0\n",
       "venture             11.89    5.00  44748.0"
      ]
     },
     "execution_count": 341,
     "metadata": {},
     "output_type": "execute_result"
    }
   ],
   "source": [
    "df1.head()"
   ]
  },
  {
   "cell_type": "code",
   "execution_count": 342,
   "metadata": {},
   "outputs": [
    {
     "data": {
      "image/png": "[encoded data removed]",
      "text/plain": [
       "<Figure size 864x360 with 2 Axes>"
      ]
     },
     "metadata": {},
     "output_type": "display_data"
    }
   ],
   "source": [
    "fig = plt.figure()\n",
    "fig.set_size_inches(12, 5)\n",
    "plt.subplot(1, 2, 1)\n",
    "plt.pie(df1.len,labels=df1.index,autopct= '%1.1f%%')\n",
    "\n",
    "plt.subplot(1, 2, 2)\n",
    "sns.set_style(style=\"darkgrid\")\n",
    "ax = sns.barplot(x=df1.index, y=df1.Mean)\n",
    "plt.show()\n"
   ]
  },
  {
   "cell_type": "markdown",
   "metadata": {},
   "source": [
    " * As Venture funding has average funding between 5 to 15 Million USD, we will be using rows having Venture as funding_type"
   ]
  },
  {
   "cell_type": "code",
   "execution_count": 343,
   "metadata": {},
   "outputs": [],
   "source": [
    "# Create datframe which has the lastest fund raised per company\n",
    "df_latest_funding_at=master_frame.groupby('company_permalink').head(1)"
   ]
  },
  {
   "cell_type": "code",
   "execution_count": 344,
   "metadata": {},
   "outputs": [
    {
     "data": {
      "text/plain": [
       "(40425, 9)"
      ]
     },
     "execution_count": 344,
     "metadata": {},
     "output_type": "execute_result"
    }
   ],
   "source": [
    "df_latest_funding_at.shape"
   ]
  },
  {
   "cell_type": "code",
   "execution_count": 345,
   "metadata": {},
   "outputs": [],
   "source": [
    "# choosing companies only having funding_round_type as venture\n",
    "#(To avoid companies which are current having funding_round_type as private_equity)\n",
    "df_latest_funding_as_venture= df_latest_funding_at[df_latest_funding_at['funding_round_type']=='venture']"
   ]
  },
  {
   "cell_type": "code",
   "execution_count": 346,
   "metadata": {},
   "outputs": [],
   "source": [
    "df_latest_funding_as_venture.to_csv('2.csv',index = False, header=True)"
   ]
  },
  {
   "cell_type": "code",
   "execution_count": 347,
   "metadata": {},
   "outputs": [
    {
     "data": {
      "text/plain": [
       "(24559, 9)"
      ]
     },
     "execution_count": 347,
     "metadata": {},
     "output_type": "execute_result"
    }
   ],
   "source": [
    "df_latest_funding_as_venture.shape"
   ]
  },
  {
   "cell_type": "code",
   "execution_count": 348,
   "metadata": {},
   "outputs": [
    {
     "data": {
      "text/html": [
       "<div>\n",
       "<style scoped>\n",
       "    .dataframe tbody tr th:only-of-type {\n",
       "        vertical-align: middle;\n",
       "    }\n",
       "\n",
       "    .dataframe tbody tr th {\n",
       "        vertical-align: top;\n",
       "    }\n",
       "\n",
       "    .dataframe thead th {\n",
       "        text-align: right;\n",
       "    }\n",
       "</style>\n",
       "<table border=\"1\" class=\"dataframe\">\n",
       "  <thead>\n",
       "    <tr style=\"text-align: right;\">\n",
       "      <th></th>\n",
       "      <th>company_permalink</th>\n",
       "      <th>name</th>\n",
       "      <th>category_list</th>\n",
       "      <th>status</th>\n",
       "      <th>country_code</th>\n",
       "      <th>funding_round_type</th>\n",
       "      <th>funded_at</th>\n",
       "      <th>raised_amount_usd</th>\n",
       "      <th>total_amount_invested</th>\n",
       "    </tr>\n",
       "  </thead>\n",
       "  <tbody>\n",
       "    <tr>\n",
       "      <td>38100</td>\n",
       "      <td>/organization/keypair-inc</td>\n",
       "      <td>Keypair, Inc.</td>\n",
       "      <td>FinTech</td>\n",
       "      <td>operating</td>\n",
       "      <td>KOR</td>\n",
       "      <td>venture</td>\n",
       "      <td>2015-12-05</td>\n",
       "      <td>5.0</td>\n",
       "      <td>5.00</td>\n",
       "    </tr>\n",
       "    <tr>\n",
       "      <td>51055</td>\n",
       "      <td>/organization/onovative</td>\n",
       "      <td>Onovative</td>\n",
       "      <td>Banking|Enterprise Software|Financial Services...</td>\n",
       "      <td>operating</td>\n",
       "      <td>USA</td>\n",
       "      <td>venture</td>\n",
       "      <td>2015-12-04</td>\n",
       "      <td>1.2</td>\n",
       "      <td>1.60</td>\n",
       "    </tr>\n",
       "    <tr>\n",
       "      <td>57009</td>\n",
       "      <td>/organization/prosetta</td>\n",
       "      <td>Prosetta</td>\n",
       "      <td>Biotechnology</td>\n",
       "      <td>operating</td>\n",
       "      <td>USA</td>\n",
       "      <td>venture</td>\n",
       "      <td>2015-12-04</td>\n",
       "      <td>31.0</td>\n",
       "      <td>35.04</td>\n",
       "    </tr>\n",
       "    <tr>\n",
       "      <td>40508</td>\n",
       "      <td>/organization/lindacare</td>\n",
       "      <td>LindaCare</td>\n",
       "      <td>Health Care</td>\n",
       "      <td>operating</td>\n",
       "      <td>BEL</td>\n",
       "      <td>venture</td>\n",
       "      <td>2015-12-04</td>\n",
       "      <td>1.6</td>\n",
       "      <td>1.60</td>\n",
       "    </tr>\n",
       "    <tr>\n",
       "      <td>57214</td>\n",
       "      <td>/organization/proversity</td>\n",
       "      <td>Proversity</td>\n",
       "      <td>Education|Internet|Recruiting</td>\n",
       "      <td>operating</td>\n",
       "      <td>GBR</td>\n",
       "      <td>venture</td>\n",
       "      <td>2015-12-04</td>\n",
       "      <td>1.5</td>\n",
       "      <td>1.69</td>\n",
       "    </tr>\n",
       "  </tbody>\n",
       "</table>\n",
       "</div>"
      ],
      "text/plain": [
       "               company_permalink           name  \\\n",
       "38100  /organization/keypair-inc  Keypair, Inc.   \n",
       "51055    /organization/onovative      Onovative   \n",
       "57009     /organization/prosetta       Prosetta   \n",
       "40508    /organization/lindacare      LindaCare   \n",
       "57214   /organization/proversity     Proversity   \n",
       "\n",
       "                                           category_list     status  \\\n",
       "38100                                            FinTech  operating   \n",
       "51055  Banking|Enterprise Software|Financial Services...  operating   \n",
       "57009                                      Biotechnology  operating   \n",
       "40508                                        Health Care  operating   \n",
       "57214                      Education|Internet|Recruiting  operating   \n",
       "\n",
       "      country_code funding_round_type   funded_at  raised_amount_usd  \\\n",
       "38100          KOR            venture  2015-12-05                5.0   \n",
       "51055          USA            venture  2015-12-04                1.2   \n",
       "57009          USA            venture  2015-12-04               31.0   \n",
       "40508          BEL            venture  2015-12-04                1.6   \n",
       "57214          GBR            venture  2015-12-04                1.5   \n",
       "\n",
       "       total_amount_invested  \n",
       "38100                   5.00  \n",
       "51055                   1.60  \n",
       "57009                  35.04  \n",
       "40508                   1.60  \n",
       "57214                   1.69  "
      ]
     },
     "execution_count": 348,
     "metadata": {},
     "output_type": "execute_result"
    }
   ],
   "source": [
    "df_latest_funding_as_venture.head()"
   ]
  },
  {
   "cell_type": "code",
   "execution_count": 349,
   "metadata": {},
   "outputs": [],
   "source": [
    "# create data frame with companies having funding_round_type as venture and \n",
    "#companies are in df_latest_funding_as_venture \n",
    "master_frame = master_frame[(master_frame.funding_round_type=='venture') & (master_frame.company_permalink.isin(df_latest_funding_as_venture.company_permalink))]"
   ]
  },
  {
   "cell_type": "code",
   "execution_count": 350,
   "metadata": {},
   "outputs": [
    {
     "data": {
      "text/plain": [
       "(43255, 9)"
      ]
     },
     "execution_count": 350,
     "metadata": {},
     "output_type": "execute_result"
    }
   ],
   "source": [
    "master_frame.shape"
   ]
  },
  {
   "cell_type": "markdown",
   "metadata": {},
   "source": [
    "## Country analysis"
   ]
  },
  {
   "cell_type": "markdown",
   "metadata": {},
   "source": [
    "1. Top 9 countries based on the total investment amount each country has received\n",
    "2. Create a list of of english_speaking_countries from wikipedia link shared. \n",
    "3. Get top3 english speaking countries out of top9 using above list.\n",
    "4. Reduce dataframe to have data from these three countries."
   ]
  },
  {
   "cell_type": "code",
   "execution_count": 351,
   "metadata": {},
   "outputs": [],
   "source": [
    "# Top 9 countries based on the total investment amount each country has received\n",
    "top9_countries=pd.DataFrame(master_frame.groupby('country_code')['raised_amount_usd'].sum().sort_values(ascending=False).head(9))"
   ]
  },
  {
   "cell_type": "code",
   "execution_count": 352,
   "metadata": {},
   "outputs": [
    {
     "data": {
      "text/html": [
       "<div>\n",
       "<style scoped>\n",
       "    .dataframe tbody tr th:only-of-type {\n",
       "        vertical-align: middle;\n",
       "    }\n",
       "\n",
       "    .dataframe tbody tr th {\n",
       "        vertical-align: top;\n",
       "    }\n",
       "\n",
       "    .dataframe thead th {\n",
       "        text-align: right;\n",
       "    }\n",
       "</style>\n",
       "<table border=\"1\" class=\"dataframe\">\n",
       "  <thead>\n",
       "    <tr style=\"text-align: right;\">\n",
       "      <th></th>\n",
       "      <th>country_code</th>\n",
       "      <th>raised_amount_usd</th>\n",
       "    </tr>\n",
       "  </thead>\n",
       "  <tbody>\n",
       "    <tr>\n",
       "      <td>0</td>\n",
       "      <td>USA</td>\n",
       "      <td>375525.31</td>\n",
       "    </tr>\n",
       "    <tr>\n",
       "      <td>1</td>\n",
       "      <td>CHN</td>\n",
       "      <td>36280.04</td>\n",
       "    </tr>\n",
       "    <tr>\n",
       "      <td>2</td>\n",
       "      <td>GBR</td>\n",
       "      <td>17638.32</td>\n",
       "    </tr>\n",
       "    <tr>\n",
       "      <td>3</td>\n",
       "      <td>IND</td>\n",
       "      <td>10972.74</td>\n",
       "    </tr>\n",
       "    <tr>\n",
       "      <td>4</td>\n",
       "      <td>CAN</td>\n",
       "      <td>8591.16</td>\n",
       "    </tr>\n",
       "    <tr>\n",
       "      <td>5</td>\n",
       "      <td>FRA</td>\n",
       "      <td>6616.20</td>\n",
       "    </tr>\n",
       "    <tr>\n",
       "      <td>6</td>\n",
       "      <td>ISR</td>\n",
       "      <td>6338.00</td>\n",
       "    </tr>\n",
       "    <tr>\n",
       "      <td>7</td>\n",
       "      <td>DEU</td>\n",
       "      <td>5871.80</td>\n",
       "    </tr>\n",
       "    <tr>\n",
       "      <td>8</td>\n",
       "      <td>JPN</td>\n",
       "      <td>3155.92</td>\n",
       "    </tr>\n",
       "  </tbody>\n",
       "</table>\n",
       "</div>"
      ],
      "text/plain": [
       "  country_code  raised_amount_usd\n",
       "0          USA          375525.31\n",
       "1          CHN           36280.04\n",
       "2          GBR           17638.32\n",
       "3          IND           10972.74\n",
       "4          CAN            8591.16\n",
       "5          FRA            6616.20\n",
       "6          ISR            6338.00\n",
       "7          DEU            5871.80\n",
       "8          JPN            3155.92"
      ]
     },
     "execution_count": 352,
     "metadata": {},
     "output_type": "execute_result"
    }
   ],
   "source": [
    "top9_countries=top9_countries.reset_index()\n",
    "top9_countries"
   ]
  },
  {
   "cell_type": "code",
   "execution_count": 353,
   "metadata": {},
   "outputs": [
    {
     "data": {
      "image/png": "[encoded data removed]",
      "text/plain": [
       "<Figure size 432x288 with 1 Axes>"
      ]
     },
     "metadata": {},
     "output_type": "display_data"
    }
   ],
   "source": [
    "# A plot showing the top 9 countries against the total amount of investments of funding type FT\n",
    "fig = plt.figure()\n",
    "ax=sns.barplot(x=top9_countries.country_code, y= top9_countries.raised_amount_usd)\n",
    "ax.set_yscale('log')\n",
    "plt.show()"
   ]
  },
  {
   "cell_type": "code",
   "execution_count": 354,
   "metadata": {},
   "outputs": [],
   "source": [
    "# created list out of english_speaking_countries \n",
    "english_speaking_countries=['ATG','BHS','BRB','BLZ','CAN','DMA','FJI','GHA','GRD','GUY','IRL','JAM','KEN','LBR','NGA','PNG','PHL','KNA','LCA','VCT','SLE','SGP','ZAF','TTO','AUS','NZL','GBR','USA','IND']"
   ]
  },
  {
   "cell_type": "code",
   "execution_count": 355,
   "metadata": {},
   "outputs": [],
   "source": [
    "# get top 3 countries\n",
    "top3=top9_countries[top9_countries.country_code.isin(english_speaking_countries)].country_code.head(3)"
   ]
  },
  {
   "cell_type": "code",
   "execution_count": 356,
   "metadata": {},
   "outputs": [
    {
     "data": {
      "text/plain": [
       "0    USA\n",
       "2    GBR\n",
       "3    IND\n",
       "Name: country_code, dtype: object"
      ]
     },
     "execution_count": 356,
     "metadata": {},
     "output_type": "execute_result"
    }
   ],
   "source": [
    "top3"
   ]
  },
  {
   "cell_type": "code",
   "execution_count": 357,
   "metadata": {},
   "outputs": [],
   "source": [
    "# Analysing the data of these three countries only\n",
    "master_frame= master_frame[master_frame.country_code.isin(top3)]"
   ]
  },
  {
   "cell_type": "code",
   "execution_count": 358,
   "metadata": {},
   "outputs": [
    {
     "data": {
      "text/plain": [
       "(35011, 9)"
      ]
     },
     "execution_count": 358,
     "metadata": {},
     "output_type": "execute_result"
    }
   ],
   "source": [
    "# Remaining rows after completing country analysis\n",
    "master_frame.shape"
   ]
  },
  {
   "cell_type": "markdown",
   "metadata": {},
   "source": [
    "# Sector Analysis -1"
   ]
  },
  {
   "cell_type": "markdown",
   "metadata": {},
   "source": [
    "1. Read mapping.csv file \n",
    "2. Remove rows having category_list as NaN\n",
    "3. Drop the Blanks column\n",
    "4. Treat category_list having 0 in their name\n",
    "5. Use melt method to deduce main_sector\n",
    "6. Create primary_sector in master_frame\n",
    "7. Remove rows which don't have a main_sector"
   ]
  },
  {
   "cell_type": "code",
   "execution_count": 359,
   "metadata": {},
   "outputs": [],
   "source": [
    "# Read mapping.csv file\n",
    "sectors =pd.read_csv('mapping.csv')"
   ]
  },
  {
   "cell_type": "code",
   "execution_count": 360,
   "metadata": {},
   "outputs": [
    {
     "data": {
      "text/html": [
       "<div>\n",
       "<style scoped>\n",
       "    .dataframe tbody tr th:only-of-type {\n",
       "        vertical-align: middle;\n",
       "    }\n",
       "\n",
       "    .dataframe tbody tr th {\n",
       "        vertical-align: top;\n",
       "    }\n",
       "\n",
       "    .dataframe thead th {\n",
       "        text-align: right;\n",
       "    }\n",
       "</style>\n",
       "<table border=\"1\" class=\"dataframe\">\n",
       "  <thead>\n",
       "    <tr style=\"text-align: right;\">\n",
       "      <th></th>\n",
       "      <th>category_list</th>\n",
       "      <th>Automotive &amp; Sports</th>\n",
       "      <th>Blanks</th>\n",
       "      <th>Cleantech / Semiconductors</th>\n",
       "      <th>Entertainment</th>\n",
       "      <th>Health</th>\n",
       "      <th>Manufacturing</th>\n",
       "      <th>News, Search and Messaging</th>\n",
       "      <th>Others</th>\n",
       "      <th>Social, Finance, Analytics, Advertising</th>\n",
       "    </tr>\n",
       "  </thead>\n",
       "  <tbody>\n",
       "    <tr>\n",
       "      <td>0</td>\n",
       "      <td>NaN</td>\n",
       "      <td>0</td>\n",
       "      <td>1</td>\n",
       "      <td>0</td>\n",
       "      <td>0</td>\n",
       "      <td>0</td>\n",
       "      <td>0</td>\n",
       "      <td>0</td>\n",
       "      <td>0</td>\n",
       "      <td>0</td>\n",
       "    </tr>\n",
       "    <tr>\n",
       "      <td>1</td>\n",
       "      <td>3D</td>\n",
       "      <td>0</td>\n",
       "      <td>0</td>\n",
       "      <td>0</td>\n",
       "      <td>0</td>\n",
       "      <td>0</td>\n",
       "      <td>1</td>\n",
       "      <td>0</td>\n",
       "      <td>0</td>\n",
       "      <td>0</td>\n",
       "    </tr>\n",
       "    <tr>\n",
       "      <td>2</td>\n",
       "      <td>3D Printing</td>\n",
       "      <td>0</td>\n",
       "      <td>0</td>\n",
       "      <td>0</td>\n",
       "      <td>0</td>\n",
       "      <td>0</td>\n",
       "      <td>1</td>\n",
       "      <td>0</td>\n",
       "      <td>0</td>\n",
       "      <td>0</td>\n",
       "    </tr>\n",
       "    <tr>\n",
       "      <td>3</td>\n",
       "      <td>3D Technology</td>\n",
       "      <td>0</td>\n",
       "      <td>0</td>\n",
       "      <td>0</td>\n",
       "      <td>0</td>\n",
       "      <td>0</td>\n",
       "      <td>1</td>\n",
       "      <td>0</td>\n",
       "      <td>0</td>\n",
       "      <td>0</td>\n",
       "    </tr>\n",
       "    <tr>\n",
       "      <td>4</td>\n",
       "      <td>Accounting</td>\n",
       "      <td>0</td>\n",
       "      <td>0</td>\n",
       "      <td>0</td>\n",
       "      <td>0</td>\n",
       "      <td>0</td>\n",
       "      <td>0</td>\n",
       "      <td>0</td>\n",
       "      <td>0</td>\n",
       "      <td>1</td>\n",
       "    </tr>\n",
       "  </tbody>\n",
       "</table>\n",
       "</div>"
      ],
      "text/plain": [
       "   category_list  Automotive & Sports  Blanks  Cleantech / Semiconductors  \\\n",
       "0            NaN                    0       1                           0   \n",
       "1             3D                    0       0                           0   \n",
       "2    3D Printing                    0       0                           0   \n",
       "3  3D Technology                    0       0                           0   \n",
       "4     Accounting                    0       0                           0   \n",
       "\n",
       "   Entertainment  Health  Manufacturing  News, Search and Messaging  Others  \\\n",
       "0              0       0              0                           0       0   \n",
       "1              0       0              1                           0       0   \n",
       "2              0       0              1                           0       0   \n",
       "3              0       0              1                           0       0   \n",
       "4              0       0              0                           0       0   \n",
       "\n",
       "   Social, Finance, Analytics, Advertising  \n",
       "0                                        0  \n",
       "1                                        0  \n",
       "2                                        0  \n",
       "3                                        0  \n",
       "4                                        1  "
      ]
     },
     "execution_count": 360,
     "metadata": {},
     "output_type": "execute_result"
    }
   ],
   "source": [
    "sectors.head()"
   ]
  },
  {
   "cell_type": "code",
   "execution_count": 361,
   "metadata": {},
   "outputs": [
    {
     "data": {
      "text/plain": [
       "1"
      ]
     },
     "execution_count": 361,
     "metadata": {},
     "output_type": "execute_result"
    }
   ],
   "source": [
    "# check if there are rowis having category_list as null\n",
    "sectors.category_list.isnull().sum()"
   ]
  },
  {
   "cell_type": "code",
   "execution_count": 362,
   "metadata": {},
   "outputs": [
    {
     "data": {
      "text/plain": [
       "(688, 10)"
      ]
     },
     "execution_count": 362,
     "metadata": {},
     "output_type": "execute_result"
    }
   ],
   "source": [
    "sectors.shape"
   ]
  },
  {
   "cell_type": "code",
   "execution_count": 363,
   "metadata": {},
   "outputs": [],
   "source": [
    "# Drop row having Nan\n",
    "sectors=sectors.dropna()"
   ]
  },
  {
   "cell_type": "code",
   "execution_count": 364,
   "metadata": {},
   "outputs": [
    {
     "data": {
      "text/plain": [
       "True"
      ]
     },
     "execution_count": 364,
     "metadata": {},
     "output_type": "execute_result"
    }
   ],
   "source": [
    "# Checking if all rows are having Blanks as 0\n",
    "len(sectors[sectors['Blanks']==0])== len(sectors.index)"
   ]
  },
  {
   "cell_type": "code",
   "execution_count": 365,
   "metadata": {},
   "outputs": [],
   "source": [
    "# removing the column as all the values are zeroes\n",
    "sectors=sectors.drop(columns='Blanks')"
   ]
  },
  {
   "cell_type": "code",
   "execution_count": 366,
   "metadata": {},
   "outputs": [],
   "source": [
    "# ceate a method to treat category_list having 0 in the name\n",
    "def zeroReplacement(category):\n",
    "    if category.startswith('0'): \n",
    "        category=category.replace('0','Na') # replace category starting with 0 with Na \n",
    "    else: \n",
    "        category=category.replace('0','na') # replace category not starting with 0 and having 0 with na\n",
    "    category=category.replace('.na','.0')# replace .na with .0 as .0 is valid\n",
    "    return  category "
   ]
  },
  {
   "cell_type": "code",
   "execution_count": 367,
   "metadata": {},
   "outputs": [],
   "source": [
    "#apply zeroReplacement method on category_list\n",
    "sectors.category_list=sectors.category_list.apply(lambda category :  zeroReplacement(category))"
   ]
  },
  {
   "cell_type": "code",
   "execution_count": 368,
   "metadata": {},
   "outputs": [],
   "source": [
    "# use melt method to deduce main_sector \n",
    "sectors=pd.melt(sectors,id_vars='category_list',var_name='main_sector').query('value ==1')"
   ]
  },
  {
   "cell_type": "code",
   "execution_count": 369,
   "metadata": {},
   "outputs": [],
   "source": [
    "# drop the value column\n",
    "sectors=sectors.drop(columns='value')"
   ]
  },
  {
   "cell_type": "code",
   "execution_count": 370,
   "metadata": {},
   "outputs": [
    {
     "data": {
      "text/html": [
       "<div>\n",
       "<style scoped>\n",
       "    .dataframe tbody tr th:only-of-type {\n",
       "        vertical-align: middle;\n",
       "    }\n",
       "\n",
       "    .dataframe tbody tr th {\n",
       "        vertical-align: top;\n",
       "    }\n",
       "\n",
       "    .dataframe thead th {\n",
       "        text-align: right;\n",
       "    }\n",
       "</style>\n",
       "<table border=\"1\" class=\"dataframe\">\n",
       "  <thead>\n",
       "    <tr style=\"text-align: right;\">\n",
       "      <th></th>\n",
       "      <th>category_list</th>\n",
       "      <th>main_sector</th>\n",
       "    </tr>\n",
       "  </thead>\n",
       "  <tbody>\n",
       "    <tr>\n",
       "      <td>7</td>\n",
       "      <td>Adventure Travel</td>\n",
       "      <td>Automotive &amp; Sports</td>\n",
       "    </tr>\n",
       "    <tr>\n",
       "      <td>13</td>\n",
       "      <td>Aerospace</td>\n",
       "      <td>Automotive &amp; Sports</td>\n",
       "    </tr>\n",
       "    <tr>\n",
       "      <td>44</td>\n",
       "      <td>Auto</td>\n",
       "      <td>Automotive &amp; Sports</td>\n",
       "    </tr>\n",
       "    <tr>\n",
       "      <td>45</td>\n",
       "      <td>Automated Kiosk</td>\n",
       "      <td>Automotive &amp; Sports</td>\n",
       "    </tr>\n",
       "    <tr>\n",
       "      <td>46</td>\n",
       "      <td>Automotive</td>\n",
       "      <td>Automotive &amp; Sports</td>\n",
       "    </tr>\n",
       "  </tbody>\n",
       "</table>\n",
       "</div>"
      ],
      "text/plain": [
       "       category_list          main_sector\n",
       "7   Adventure Travel  Automotive & Sports\n",
       "13         Aerospace  Automotive & Sports\n",
       "44              Auto  Automotive & Sports\n",
       "45   Automated Kiosk  Automotive & Sports\n",
       "46        Automotive  Automotive & Sports"
      ]
     },
     "execution_count": 370,
     "metadata": {},
     "output_type": "execute_result"
    }
   ],
   "source": [
    "sectors.head()"
   ]
  },
  {
   "cell_type": "code",
   "execution_count": 371,
   "metadata": {},
   "outputs": [],
   "source": [
    "# Get primary_sector from primary_sector\n",
    "master_frame['primary_sector'] = master_frame.category_list.apply(lambda x : x.split('|')[0])"
   ]
  },
  {
   "cell_type": "code",
   "execution_count": 372,
   "metadata": {},
   "outputs": [
    {
     "data": {
      "text/html": [
       "<div>\n",
       "<style scoped>\n",
       "    .dataframe tbody tr th:only-of-type {\n",
       "        vertical-align: middle;\n",
       "    }\n",
       "\n",
       "    .dataframe tbody tr th {\n",
       "        vertical-align: top;\n",
       "    }\n",
       "\n",
       "    .dataframe thead th {\n",
       "        text-align: right;\n",
       "    }\n",
       "</style>\n",
       "<table border=\"1\" class=\"dataframe\">\n",
       "  <thead>\n",
       "    <tr style=\"text-align: right;\">\n",
       "      <th></th>\n",
       "      <th>company_permalink</th>\n",
       "      <th>name</th>\n",
       "      <th>category_list</th>\n",
       "      <th>status</th>\n",
       "      <th>country_code</th>\n",
       "      <th>funding_round_type</th>\n",
       "      <th>funded_at</th>\n",
       "      <th>raised_amount_usd</th>\n",
       "      <th>total_amount_invested</th>\n",
       "      <th>primary_sector</th>\n",
       "    </tr>\n",
       "  </thead>\n",
       "  <tbody>\n",
       "    <tr>\n",
       "      <td>51055</td>\n",
       "      <td>/organization/onovative</td>\n",
       "      <td>Onovative</td>\n",
       "      <td>Banking|Enterprise Software|Financial Services...</td>\n",
       "      <td>operating</td>\n",
       "      <td>USA</td>\n",
       "      <td>venture</td>\n",
       "      <td>2015-12-04</td>\n",
       "      <td>1.2</td>\n",
       "      <td>1.60</td>\n",
       "      <td>Banking</td>\n",
       "    </tr>\n",
       "    <tr>\n",
       "      <td>57009</td>\n",
       "      <td>/organization/prosetta</td>\n",
       "      <td>Prosetta</td>\n",
       "      <td>Biotechnology</td>\n",
       "      <td>operating</td>\n",
       "      <td>USA</td>\n",
       "      <td>venture</td>\n",
       "      <td>2015-12-04</td>\n",
       "      <td>31.0</td>\n",
       "      <td>35.04</td>\n",
       "      <td>Biotechnology</td>\n",
       "    </tr>\n",
       "    <tr>\n",
       "      <td>57214</td>\n",
       "      <td>/organization/proversity</td>\n",
       "      <td>Proversity</td>\n",
       "      <td>Education|Internet|Recruiting</td>\n",
       "      <td>operating</td>\n",
       "      <td>GBR</td>\n",
       "      <td>venture</td>\n",
       "      <td>2015-12-04</td>\n",
       "      <td>1.5</td>\n",
       "      <td>1.69</td>\n",
       "      <td>Education</td>\n",
       "    </tr>\n",
       "    <tr>\n",
       "      <td>62763</td>\n",
       "      <td>/organization/seamlessdocs</td>\n",
       "      <td>SeamlessDocs</td>\n",
       "      <td>Enterprise Software|Government Innovation|Proj...</td>\n",
       "      <td>operating</td>\n",
       "      <td>USA</td>\n",
       "      <td>venture</td>\n",
       "      <td>2015-12-04</td>\n",
       "      <td>5.0</td>\n",
       "      <td>6.45</td>\n",
       "      <td>Enterprise Software</td>\n",
       "    </tr>\n",
       "    <tr>\n",
       "      <td>79395</td>\n",
       "      <td>/organization/welltok</td>\n",
       "      <td>Welltok</td>\n",
       "      <td>Health and Wellness</td>\n",
       "      <td>operating</td>\n",
       "      <td>USA</td>\n",
       "      <td>venture</td>\n",
       "      <td>2015-12-03</td>\n",
       "      <td>45.0</td>\n",
       "      <td>129.99</td>\n",
       "      <td>Health and Wellness</td>\n",
       "    </tr>\n",
       "  </tbody>\n",
       "</table>\n",
       "</div>"
      ],
      "text/plain": [
       "                company_permalink          name  \\\n",
       "51055     /organization/onovative     Onovative   \n",
       "57009      /organization/prosetta      Prosetta   \n",
       "57214    /organization/proversity    Proversity   \n",
       "62763  /organization/seamlessdocs  SeamlessDocs   \n",
       "79395       /organization/welltok       Welltok   \n",
       "\n",
       "                                           category_list     status  \\\n",
       "51055  Banking|Enterprise Software|Financial Services...  operating   \n",
       "57009                                      Biotechnology  operating   \n",
       "57214                      Education|Internet|Recruiting  operating   \n",
       "62763  Enterprise Software|Government Innovation|Proj...  operating   \n",
       "79395                                Health and Wellness  operating   \n",
       "\n",
       "      country_code funding_round_type   funded_at  raised_amount_usd  \\\n",
       "51055          USA            venture  2015-12-04                1.2   \n",
       "57009          USA            venture  2015-12-04               31.0   \n",
       "57214          GBR            venture  2015-12-04                1.5   \n",
       "62763          USA            venture  2015-12-04                5.0   \n",
       "79395          USA            venture  2015-12-03               45.0   \n",
       "\n",
       "       total_amount_invested       primary_sector  \n",
       "51055                   1.60              Banking  \n",
       "57009                  35.04        Biotechnology  \n",
       "57214                   1.69            Education  \n",
       "62763                   6.45  Enterprise Software  \n",
       "79395                 129.99  Health and Wellness  "
      ]
     },
     "execution_count": 372,
     "metadata": {},
     "output_type": "execute_result"
    }
   ],
   "source": [
    "master_frame.head()"
   ]
  },
  {
   "cell_type": "code",
   "execution_count": 373,
   "metadata": {},
   "outputs": [
    {
     "data": {
      "text/plain": [
       "(35011, 10)"
      ]
     },
     "execution_count": 373,
     "metadata": {},
     "output_type": "execute_result"
    }
   ],
   "source": [
    "master_frame.shape"
   ]
  },
  {
   "cell_type": "code",
   "execution_count": 374,
   "metadata": {},
   "outputs": [],
   "source": [
    "# add main_sector to master_frame using pd.merge function\n",
    "master_frame= pd.merge(master_frame,sectors, how='left', left_on='primary_sector',right_on='category_list')"
   ]
  },
  {
   "cell_type": "code",
   "execution_count": 375,
   "metadata": {},
   "outputs": [
    {
     "data": {
      "text/plain": [
       "(35011, 12)"
      ]
     },
     "execution_count": 375,
     "metadata": {},
     "output_type": "execute_result"
    }
   ],
   "source": [
    "master_frame.shape"
   ]
  },
  {
   "cell_type": "code",
   "execution_count": 376,
   "metadata": {},
   "outputs": [],
   "source": [
    "master_frame=master_frame.drop(columns='category_list_y')\n",
    "master_frame= master_frame.rename(columns={'category_list_x':'category_list'})"
   ]
  },
  {
   "cell_type": "code",
   "execution_count": 377,
   "metadata": {},
   "outputs": [
    {
     "data": {
      "text/html": [
       "<div>\n",
       "<style scoped>\n",
       "    .dataframe tbody tr th:only-of-type {\n",
       "        vertical-align: middle;\n",
       "    }\n",
       "\n",
       "    .dataframe tbody tr th {\n",
       "        vertical-align: top;\n",
       "    }\n",
       "\n",
       "    .dataframe thead th {\n",
       "        text-align: right;\n",
       "    }\n",
       "</style>\n",
       "<table border=\"1\" class=\"dataframe\">\n",
       "  <thead>\n",
       "    <tr style=\"text-align: right;\">\n",
       "      <th></th>\n",
       "      <th>company_permalink</th>\n",
       "      <th>name</th>\n",
       "      <th>category_list</th>\n",
       "      <th>status</th>\n",
       "      <th>country_code</th>\n",
       "      <th>funding_round_type</th>\n",
       "      <th>funded_at</th>\n",
       "      <th>raised_amount_usd</th>\n",
       "      <th>total_amount_invested</th>\n",
       "      <th>primary_sector</th>\n",
       "      <th>main_sector</th>\n",
       "    </tr>\n",
       "  </thead>\n",
       "  <tbody>\n",
       "    <tr>\n",
       "      <td>0</td>\n",
       "      <td>/organization/onovative</td>\n",
       "      <td>Onovative</td>\n",
       "      <td>Banking|Enterprise Software|Financial Services...</td>\n",
       "      <td>operating</td>\n",
       "      <td>USA</td>\n",
       "      <td>venture</td>\n",
       "      <td>2015-12-04</td>\n",
       "      <td>1.2</td>\n",
       "      <td>1.60</td>\n",
       "      <td>Banking</td>\n",
       "      <td>Social, Finance, Analytics, Advertising</td>\n",
       "    </tr>\n",
       "    <tr>\n",
       "      <td>1</td>\n",
       "      <td>/organization/prosetta</td>\n",
       "      <td>Prosetta</td>\n",
       "      <td>Biotechnology</td>\n",
       "      <td>operating</td>\n",
       "      <td>USA</td>\n",
       "      <td>venture</td>\n",
       "      <td>2015-12-04</td>\n",
       "      <td>31.0</td>\n",
       "      <td>35.04</td>\n",
       "      <td>Biotechnology</td>\n",
       "      <td>Cleantech / Semiconductors</td>\n",
       "    </tr>\n",
       "    <tr>\n",
       "      <td>2</td>\n",
       "      <td>/organization/proversity</td>\n",
       "      <td>Proversity</td>\n",
       "      <td>Education|Internet|Recruiting</td>\n",
       "      <td>operating</td>\n",
       "      <td>GBR</td>\n",
       "      <td>venture</td>\n",
       "      <td>2015-12-04</td>\n",
       "      <td>1.5</td>\n",
       "      <td>1.69</td>\n",
       "      <td>Education</td>\n",
       "      <td>Others</td>\n",
       "    </tr>\n",
       "    <tr>\n",
       "      <td>3</td>\n",
       "      <td>/organization/seamlessdocs</td>\n",
       "      <td>SeamlessDocs</td>\n",
       "      <td>Enterprise Software|Government Innovation|Proj...</td>\n",
       "      <td>operating</td>\n",
       "      <td>USA</td>\n",
       "      <td>venture</td>\n",
       "      <td>2015-12-04</td>\n",
       "      <td>5.0</td>\n",
       "      <td>6.45</td>\n",
       "      <td>Enterprise Software</td>\n",
       "      <td>Others</td>\n",
       "    </tr>\n",
       "    <tr>\n",
       "      <td>4</td>\n",
       "      <td>/organization/welltok</td>\n",
       "      <td>Welltok</td>\n",
       "      <td>Health and Wellness</td>\n",
       "      <td>operating</td>\n",
       "      <td>USA</td>\n",
       "      <td>venture</td>\n",
       "      <td>2015-12-03</td>\n",
       "      <td>45.0</td>\n",
       "      <td>129.99</td>\n",
       "      <td>Health and Wellness</td>\n",
       "      <td>Health</td>\n",
       "    </tr>\n",
       "  </tbody>\n",
       "</table>\n",
       "</div>"
      ],
      "text/plain": [
       "            company_permalink          name  \\\n",
       "0     /organization/onovative     Onovative   \n",
       "1      /organization/prosetta      Prosetta   \n",
       "2    /organization/proversity    Proversity   \n",
       "3  /organization/seamlessdocs  SeamlessDocs   \n",
       "4       /organization/welltok       Welltok   \n",
       "\n",
       "                                       category_list     status country_code  \\\n",
       "0  Banking|Enterprise Software|Financial Services...  operating          USA   \n",
       "1                                      Biotechnology  operating          USA   \n",
       "2                      Education|Internet|Recruiting  operating          GBR   \n",
       "3  Enterprise Software|Government Innovation|Proj...  operating          USA   \n",
       "4                                Health and Wellness  operating          USA   \n",
       "\n",
       "  funding_round_type   funded_at  raised_amount_usd  total_amount_invested  \\\n",
       "0            venture  2015-12-04                1.2                   1.60   \n",
       "1            venture  2015-12-04               31.0                  35.04   \n",
       "2            venture  2015-12-04                1.5                   1.69   \n",
       "3            venture  2015-12-04                5.0                   6.45   \n",
       "4            venture  2015-12-03               45.0                 129.99   \n",
       "\n",
       "        primary_sector                              main_sector  \n",
       "0              Banking  Social, Finance, Analytics, Advertising  \n",
       "1        Biotechnology               Cleantech / Semiconductors  \n",
       "2            Education                                   Others  \n",
       "3  Enterprise Software                                   Others  \n",
       "4  Health and Wellness                                   Health  "
      ]
     },
     "execution_count": 377,
     "metadata": {},
     "output_type": "execute_result"
    }
   ],
   "source": [
    "master_frame.head()"
   ]
  },
  {
   "cell_type": "code",
   "execution_count": 378,
   "metadata": {},
   "outputs": [
    {
     "data": {
      "text/plain": [
       "Adaptive Equipment                 2\n",
       "Natural Gas Uses                   1\n",
       "GreenTech                          1\n",
       "Specialty Retail                   1\n",
       "Rapidly Expanding                  1\n",
       "Biotechnology and Semiconductor    1\n",
       "Name: primary_sector, dtype: int64"
      ]
     },
     "execution_count": 378,
     "metadata": {},
     "output_type": "execute_result"
    }
   ],
   "source": [
    "master_frame[master_frame.main_sector.isnull()].primary_sector.value_counts()"
   ]
  },
  {
   "cell_type": "code",
   "execution_count": 379,
   "metadata": {},
   "outputs": [
    {
     "data": {
      "text/plain": [
       "7"
      ]
     },
     "execution_count": 379,
     "metadata": {},
     "output_type": "execute_result"
    }
   ],
   "source": [
    "# check number of rows having main_sector as null \n",
    "master_frame.main_sector.isnull().sum()"
   ]
  },
  {
   "cell_type": "code",
   "execution_count": 380,
   "metadata": {},
   "outputs": [],
   "source": [
    "# remove rows having main_sector as null\n",
    "master_frame = master_frame[~master_frame.main_sector.isnull()]"
   ]
  },
  {
   "cell_type": "code",
   "execution_count": 381,
   "metadata": {},
   "outputs": [
    {
     "data": {
      "text/plain": [
       "(35004, 11)"
      ]
     },
     "execution_count": 381,
     "metadata": {},
     "output_type": "execute_result"
    }
   ],
   "source": [
    "# check the shape after removing rows\n",
    "master_frame.shape"
   ]
  },
  {
   "cell_type": "markdown",
   "metadata": {},
   "source": [
    "# Sector Analysis 2"
   ]
  },
  {
   "cell_type": "markdown",
   "metadata": {},
   "source": [
    "1. Retain rows having raised_amount_usd between 5 and 15 million (both Inclusive)\n",
    "2. Create D1, D2,D3 for Country1, Country2 , Country3\n",
    "3. Add total number (or count) of investments for each main sector in D1, D2,D3 dataframes\n",
    "4. Add total amount invested in each main sector in D1, D2,D3 dataframes."
   ]
  },
  {
   "cell_type": "code",
   "execution_count": 382,
   "metadata": {},
   "outputs": [],
   "source": [
    "# Retain rows having raised_amount_usd between 5 and 15 million (both Inclusive)\n",
    "master_frame= master_frame[(master_frame['raised_amount_usd'] >=5) & (master_frame['raised_amount_usd'] <=15)]"
   ]
  },
  {
   "cell_type": "code",
   "execution_count": 383,
   "metadata": {},
   "outputs": [
    {
     "data": {
      "text/plain": [
       "(11826, 11)"
      ]
     },
     "execution_count": 383,
     "metadata": {},
     "output_type": "execute_result"
    }
   ],
   "source": [
    "# check the shape after removing rows\n",
    "master_frame.shape"
   ]
  },
  {
   "cell_type": "code",
   "execution_count": 384,
   "metadata": {},
   "outputs": [
    {
     "data": {
      "text/plain": [
       "USA    10944\n",
       "GBR      573\n",
       "IND      309\n",
       "Name: country_code, dtype: int64"
      ]
     },
     "execution_count": 384,
     "metadata": {},
     "output_type": "execute_result"
    }
   ],
   "source": [
    "# 3 countries of our choice\n",
    "master_frame.country_code.value_counts()"
   ]
  },
  {
   "cell_type": "code",
   "execution_count": 385,
   "metadata": {},
   "outputs": [],
   "source": [
    "# Data of the first country\n",
    "D1= master_frame[master_frame.country_code=='USA']"
   ]
  },
  {
   "cell_type": "code",
   "execution_count": 386,
   "metadata": {},
   "outputs": [
    {
     "data": {
      "text/plain": [
       "(10944, 11)"
      ]
     },
     "execution_count": 386,
     "metadata": {},
     "output_type": "execute_result"
    }
   ],
   "source": [
    "D1.shape"
   ]
  },
  {
   "cell_type": "code",
   "execution_count": 387,
   "metadata": {},
   "outputs": [],
   "source": [
    "# Data of the second country\n",
    "D2= master_frame[master_frame.country_code=='GBR']"
   ]
  },
  {
   "cell_type": "code",
   "execution_count": 388,
   "metadata": {},
   "outputs": [],
   "source": [
    "# Data of the third country\n",
    "D3= master_frame[master_frame.country_code=='IND']"
   ]
  },
  {
   "cell_type": "code",
   "execution_count": 389,
   "metadata": {},
   "outputs": [],
   "source": [
    "# Get the sum of the amount and count of each main_sector\n",
    "D1_aggr=D1.groupby('main_sector')['raised_amount_usd'].agg([np.sum,len])"
   ]
  },
  {
   "cell_type": "code",
   "execution_count": 390,
   "metadata": {},
   "outputs": [],
   "source": [
    "# Add the sum and count to D1 dataframe\n",
    "D1=D1.merge(D1_aggr,how=\"inner\",on=\"main_sector\")"
   ]
  },
  {
   "cell_type": "code",
   "execution_count": 391,
   "metadata": {},
   "outputs": [],
   "source": [
    "# Get the sum of the amount and count of each main_sector\n",
    "D2_aggr= D2.groupby('main_sector')['raised_amount_usd'].agg([np.sum,len])"
   ]
  },
  {
   "cell_type": "code",
   "execution_count": 392,
   "metadata": {},
   "outputs": [],
   "source": [
    "# Add the sum and count to D2 dataframe\n",
    "D2=D2.merge(D2_aggr,how=\"inner\",on=\"main_sector\")"
   ]
  },
  {
   "cell_type": "code",
   "execution_count": 393,
   "metadata": {},
   "outputs": [],
   "source": [
    "# Get the sum of the amount and count of each main_sector\n",
    "D3_aggr= D3.groupby('main_sector')['raised_amount_usd'].agg([np.sum,len])"
   ]
  },
  {
   "cell_type": "code",
   "execution_count": 394,
   "metadata": {},
   "outputs": [],
   "source": [
    "# Add the sum and count to D3 dataframe\n",
    "D3=D3.merge(D3_aggr,how=\"inner\",on=\"main_sector\")"
   ]
  },
  {
   "cell_type": "code",
   "execution_count": 395,
   "metadata": {},
   "outputs": [
    {
     "data": {
      "text/plain": [
       "10944"
      ]
     },
     "execution_count": 395,
     "metadata": {},
     "output_type": "execute_result"
    }
   ],
   "source": [
    "#Total number of investments in C1\n",
    "len(D1.index)"
   ]
  },
  {
   "cell_type": "code",
   "execution_count": 396,
   "metadata": {},
   "outputs": [
    {
     "data": {
      "text/plain": [
       "573"
      ]
     },
     "execution_count": 396,
     "metadata": {},
     "output_type": "execute_result"
    }
   ],
   "source": [
    "#Total number of investments in C2\n",
    "len(D2.index)"
   ]
  },
  {
   "cell_type": "code",
   "execution_count": 397,
   "metadata": {},
   "outputs": [
    {
     "data": {
      "text/plain": [
       "309"
      ]
     },
     "execution_count": 397,
     "metadata": {},
     "output_type": "execute_result"
    }
   ],
   "source": [
    "#Total number of investments in C3\n",
    "len(D3.index)"
   ]
  },
  {
   "cell_type": "code",
   "execution_count": 398,
   "metadata": {},
   "outputs": [
    {
     "data": {
      "text/plain": [
       "97891130000.0"
      ]
     },
     "execution_count": 398,
     "metadata": {},
     "output_type": "execute_result"
    }
   ],
   "source": [
    "#Total amount of investment in USD in C1\n",
    "round(D1.raised_amount_usd.sum() * pow(10,6))"
   ]
  },
  {
   "cell_type": "code",
   "execution_count": 399,
   "metadata": {},
   "outputs": [
    {
     "data": {
      "text/plain": [
       "4975300000.0"
      ]
     },
     "execution_count": 399,
     "metadata": {},
     "output_type": "execute_result"
    }
   ],
   "source": [
    "#Total amount of investment in USD in C2\n",
    "round(D2.raised_amount_usd.sum() * pow(10,6))"
   ]
  },
  {
   "cell_type": "code",
   "execution_count": 400,
   "metadata": {},
   "outputs": [
    {
     "data": {
      "text/plain": [
       "2760680000.0"
      ]
     },
     "execution_count": 400,
     "metadata": {},
     "output_type": "execute_result"
    }
   ],
   "source": [
    "#Total amount of investment in USD in C3\n",
    "round(D3.raised_amount_usd.sum()* pow(10,6))"
   ]
  },
  {
   "cell_type": "code",
   "execution_count": 401,
   "metadata": {},
   "outputs": [],
   "source": [
    "# Create dataframe containing top3 sectors of each country\n",
    "top3_D1=pd.DataFrame(D1.main_sector.value_counts().sort_values(ascending=False).head(3))\n",
    "top3_D1['country_code']='USD'\n",
    "top3_D2=pd.DataFrame(D2.main_sector.value_counts().sort_values(ascending=False).head(3))\n",
    "top3_D2['country_code']='GBR'\n",
    "top3_D3=pd.DataFrame(D3.main_sector.value_counts().sort_values(ascending=False).head(3))\n",
    "top3_D3['country_code']='IND'\n",
    "top3=pd.concat([top3_D1,top3_D2,top3_D3],axis=0)"
   ]
  },
  {
   "cell_type": "code",
   "execution_count": 402,
   "metadata": {},
   "outputs": [
    {
     "data": {
      "text/html": [
       "<div>\n",
       "<style scoped>\n",
       "    .dataframe tbody tr th:only-of-type {\n",
       "        vertical-align: middle;\n",
       "    }\n",
       "\n",
       "    .dataframe tbody tr th {\n",
       "        vertical-align: top;\n",
       "    }\n",
       "\n",
       "    .dataframe thead th {\n",
       "        text-align: right;\n",
       "    }\n",
       "</style>\n",
       "<table border=\"1\" class=\"dataframe\">\n",
       "  <thead>\n",
       "    <tr style=\"text-align: right;\">\n",
       "      <th></th>\n",
       "      <th>main_sector</th>\n",
       "      <th>country_code</th>\n",
       "    </tr>\n",
       "  </thead>\n",
       "  <tbody>\n",
       "    <tr>\n",
       "      <td>Others</td>\n",
       "      <td>2694</td>\n",
       "      <td>USD</td>\n",
       "    </tr>\n",
       "    <tr>\n",
       "      <td>Social, Finance, Analytics, Advertising</td>\n",
       "      <td>2527</td>\n",
       "      <td>USD</td>\n",
       "    </tr>\n",
       "    <tr>\n",
       "      <td>Cleantech / Semiconductors</td>\n",
       "      <td>2080</td>\n",
       "      <td>USD</td>\n",
       "    </tr>\n",
       "    <tr>\n",
       "      <td>Others</td>\n",
       "      <td>139</td>\n",
       "      <td>GBR</td>\n",
       "    </tr>\n",
       "    <tr>\n",
       "      <td>Social, Finance, Analytics, Advertising</td>\n",
       "      <td>126</td>\n",
       "      <td>GBR</td>\n",
       "    </tr>\n",
       "    <tr>\n",
       "      <td>Cleantech / Semiconductors</td>\n",
       "      <td>115</td>\n",
       "      <td>GBR</td>\n",
       "    </tr>\n",
       "    <tr>\n",
       "      <td>Others</td>\n",
       "      <td>101</td>\n",
       "      <td>IND</td>\n",
       "    </tr>\n",
       "    <tr>\n",
       "      <td>Social, Finance, Analytics, Advertising</td>\n",
       "      <td>56</td>\n",
       "      <td>IND</td>\n",
       "    </tr>\n",
       "    <tr>\n",
       "      <td>News, Search and Messaging</td>\n",
       "      <td>48</td>\n",
       "      <td>IND</td>\n",
       "    </tr>\n",
       "  </tbody>\n",
       "</table>\n",
       "</div>"
      ],
      "text/plain": [
       "                                         main_sector country_code\n",
       "Others                                          2694          USD\n",
       "Social, Finance, Analytics, Advertising         2527          USD\n",
       "Cleantech / Semiconductors                      2080          USD\n",
       "Others                                           139          GBR\n",
       "Social, Finance, Analytics, Advertising          126          GBR\n",
       "Cleantech / Semiconductors                       115          GBR\n",
       "Others                                           101          IND\n",
       "Social, Finance, Analytics, Advertising           56          IND\n",
       "News, Search and Messaging                        48          IND"
      ]
     },
     "execution_count": 402,
     "metadata": {},
     "output_type": "execute_result"
    }
   ],
   "source": [
    "top3"
   ]
  },
  {
   "cell_type": "code",
   "execution_count": 403,
   "metadata": {},
   "outputs": [
    {
     "data": {
      "image/png": "[encoded data removed]",
      "text/plain": [
       "<Figure size 936x360 with 1 Axes>"
      ]
     },
     "metadata": {},
     "output_type": "display_data"
    }
   ],
   "source": [
    "# Plot the data\n",
    "fig = plt.figure()\n",
    "fig.set_size_inches(13, 5)\n",
    "ax = plt.gca()\n",
    "sns.barplot(x=top3.index, y=top3.main_sector,hue=top3.country_code)\n",
    "ax.set_yscale('log')"
   ]
  },
  {
   "cell_type": "code",
   "execution_count": 404,
   "metadata": {},
   "outputs": [
    {
     "data": {
      "text/html": [
       "<div>\n",
       "<style scoped>\n",
       "    .dataframe tbody tr th:only-of-type {\n",
       "        vertical-align: middle;\n",
       "    }\n",
       "\n",
       "    .dataframe tbody tr th {\n",
       "        vertical-align: top;\n",
       "    }\n",
       "\n",
       "    .dataframe thead th {\n",
       "        text-align: right;\n",
       "    }\n",
       "</style>\n",
       "<table border=\"1\" class=\"dataframe\">\n",
       "  <thead>\n",
       "    <tr style=\"text-align: right;\">\n",
       "      <th></th>\n",
       "      <th>company_permalink</th>\n",
       "      <th>name</th>\n",
       "      <th>category_list</th>\n",
       "      <th>status</th>\n",
       "      <th>country_code</th>\n",
       "      <th>funding_round_type</th>\n",
       "      <th>funded_at</th>\n",
       "      <th>raised_amount_usd</th>\n",
       "      <th>total_amount_invested</th>\n",
       "      <th>primary_sector</th>\n",
       "      <th>main_sector</th>\n",
       "      <th>sum</th>\n",
       "      <th>len</th>\n",
       "    </tr>\n",
       "  </thead>\n",
       "  <tbody>\n",
       "    <tr>\n",
       "      <td>717</td>\n",
       "      <td>/organization/snapchat</td>\n",
       "      <td>Snapchat</td>\n",
       "      <td>File Sharing|Messaging|Mobile|Photography</td>\n",
       "      <td>operating</td>\n",
       "      <td>USA</td>\n",
       "      <td>venture</td>\n",
       "      <td>2013-02-08</td>\n",
       "      <td>12.5</td>\n",
       "      <td>1185.58</td>\n",
       "      <td>File Sharing</td>\n",
       "      <td>Others</td>\n",
       "      <td>24072.36</td>\n",
       "      <td>2694.0</td>\n",
       "    </tr>\n",
       "  </tbody>\n",
       "</table>\n",
       "</div>"
      ],
      "text/plain": [
       "          company_permalink      name  \\\n",
       "717  /organization/snapchat  Snapchat   \n",
       "\n",
       "                                 category_list     status country_code  \\\n",
       "717  File Sharing|Messaging|Mobile|Photography  operating          USA   \n",
       "\n",
       "    funding_round_type   funded_at  raised_amount_usd  total_amount_invested  \\\n",
       "717            venture  2013-02-08               12.5                1185.58   \n",
       "\n",
       "    primary_sector main_sector       sum     len  \n",
       "717   File Sharing      Others  24072.36  2694.0  "
      ]
     },
     "execution_count": 404,
     "metadata": {},
     "output_type": "execute_result"
    }
   ],
   "source": [
    "#top sector count-wise (point 3), which company received the highest investment\n",
    "D1[D1.main_sector=='Others'].sort_values(by=['total_amount_invested','raised_amount_usd'], ascending=False).head(1)"
   ]
  },
  {
   "cell_type": "code",
   "execution_count": 405,
   "metadata": {},
   "outputs": [
    {
     "data": {
      "text/html": [
       "<div>\n",
       "<style scoped>\n",
       "    .dataframe tbody tr th:only-of-type {\n",
       "        vertical-align: middle;\n",
       "    }\n",
       "\n",
       "    .dataframe tbody tr th {\n",
       "        vertical-align: top;\n",
       "    }\n",
       "\n",
       "    .dataframe thead th {\n",
       "        text-align: right;\n",
       "    }\n",
       "</style>\n",
       "<table border=\"1\" class=\"dataframe\">\n",
       "  <thead>\n",
       "    <tr style=\"text-align: right;\">\n",
       "      <th></th>\n",
       "      <th>company_permalink</th>\n",
       "      <th>name</th>\n",
       "      <th>category_list</th>\n",
       "      <th>status</th>\n",
       "      <th>country_code</th>\n",
       "      <th>funding_round_type</th>\n",
       "      <th>funded_at</th>\n",
       "      <th>raised_amount_usd</th>\n",
       "      <th>total_amount_invested</th>\n",
       "      <th>primary_sector</th>\n",
       "      <th>main_sector</th>\n",
       "      <th>sum</th>\n",
       "      <th>len</th>\n",
       "    </tr>\n",
       "  </thead>\n",
       "  <tbody>\n",
       "    <tr>\n",
       "      <td>4893</td>\n",
       "      <td>/organization/mediavast</td>\n",
       "      <td>MediaVast</td>\n",
       "      <td>Advertising|Broadcasting|Content</td>\n",
       "      <td>acquired</td>\n",
       "      <td>USA</td>\n",
       "      <td>venture</td>\n",
       "      <td>2006-05-17</td>\n",
       "      <td>15.0</td>\n",
       "      <td>4715.0</td>\n",
       "      <td>Advertising</td>\n",
       "      <td>Social, Finance, Analytics, Advertising</td>\n",
       "      <td>22250.97</td>\n",
       "      <td>2527.0</td>\n",
       "    </tr>\n",
       "  </tbody>\n",
       "</table>\n",
       "</div>"
      ],
      "text/plain": [
       "            company_permalink       name                     category_list  \\\n",
       "4893  /organization/mediavast  MediaVast  Advertising|Broadcasting|Content   \n",
       "\n",
       "        status country_code funding_round_type   funded_at  raised_amount_usd  \\\n",
       "4893  acquired          USA            venture  2006-05-17               15.0   \n",
       "\n",
       "      total_amount_invested primary_sector  \\\n",
       "4893                 4715.0    Advertising   \n",
       "\n",
       "                                  main_sector       sum     len  \n",
       "4893  Social, Finance, Analytics, Advertising  22250.97  2527.0  "
      ]
     },
     "execution_count": 405,
     "metadata": {},
     "output_type": "execute_result"
    }
   ],
   "source": [
    "#For the second-best sector count-wise (point 4), which company received the highest investment\n",
    "D1[D1.main_sector=='Social, Finance, Analytics, Advertising'].sort_values(by=['total_amount_invested','raised_amount_usd'], ascending=False).head(1)"
   ]
  },
  {
   "cell_type": "code",
   "execution_count": 406,
   "metadata": {},
   "outputs": [
    {
     "data": {
      "text/plain": [
       "Others                                     139\n",
       "Social, Finance, Analytics, Advertising    126\n",
       "Cleantech / Semiconductors                 115\n",
       "News, Search and Messaging                  63\n",
       "Entertainment                               53\n",
       "Manufacturing                               39\n",
       "Health                                      22\n",
       "Automotive & Sports                         16\n",
       "Name: main_sector, dtype: int64"
      ]
     },
     "execution_count": 406,
     "metadata": {},
     "output_type": "execute_result"
    }
   ],
   "source": [
    "D2.main_sector.value_counts().sort_values(ascending=False)"
   ]
  },
  {
   "cell_type": "code",
   "execution_count": 407,
   "metadata": {},
   "outputs": [
    {
     "data": {
      "text/html": [
       "<div>\n",
       "<style scoped>\n",
       "    .dataframe tbody tr th:only-of-type {\n",
       "        vertical-align: middle;\n",
       "    }\n",
       "\n",
       "    .dataframe tbody tr th {\n",
       "        vertical-align: top;\n",
       "    }\n",
       "\n",
       "    .dataframe thead th {\n",
       "        text-align: right;\n",
       "    }\n",
       "</style>\n",
       "<table border=\"1\" class=\"dataframe\">\n",
       "  <thead>\n",
       "    <tr style=\"text-align: right;\">\n",
       "      <th></th>\n",
       "      <th>company_permalink</th>\n",
       "      <th>name</th>\n",
       "      <th>category_list</th>\n",
       "      <th>status</th>\n",
       "      <th>country_code</th>\n",
       "      <th>funding_round_type</th>\n",
       "      <th>funded_at</th>\n",
       "      <th>raised_amount_usd</th>\n",
       "      <th>total_amount_invested</th>\n",
       "      <th>primary_sector</th>\n",
       "      <th>main_sector</th>\n",
       "      <th>sum</th>\n",
       "      <th>len</th>\n",
       "    </tr>\n",
       "  </thead>\n",
       "  <tbody>\n",
       "    <tr>\n",
       "      <td>137</td>\n",
       "      <td>/organization/picochip</td>\n",
       "      <td>picoChip</td>\n",
       "      <td>Software</td>\n",
       "      <td>acquired</td>\n",
       "      <td>GBR</td>\n",
       "      <td>venture</td>\n",
       "      <td>2001-01-01</td>\n",
       "      <td>7.0</td>\n",
       "      <td>120.5</td>\n",
       "      <td>Software</td>\n",
       "      <td>Others</td>\n",
       "      <td>1217.63</td>\n",
       "      <td>139.0</td>\n",
       "    </tr>\n",
       "  </tbody>\n",
       "</table>\n",
       "</div>"
      ],
      "text/plain": [
       "          company_permalink      name category_list    status country_code  \\\n",
       "137  /organization/picochip  picoChip      Software  acquired          GBR   \n",
       "\n",
       "    funding_round_type   funded_at  raised_amount_usd  total_amount_invested  \\\n",
       "137            venture  2001-01-01                7.0                  120.5   \n",
       "\n",
       "    primary_sector main_sector      sum    len  \n",
       "137       Software      Others  1217.63  139.0  "
      ]
     },
     "execution_count": 407,
     "metadata": {},
     "output_type": "execute_result"
    }
   ],
   "source": [
    "#top sector count-wise (point 3), which company received the highest investment\n",
    "D2[D2.main_sector=='Others'].sort_values(by=['total_amount_invested','raised_amount_usd'], ascending=False).head(1)"
   ]
  },
  {
   "cell_type": "code",
   "execution_count": 408,
   "metadata": {},
   "outputs": [
    {
     "data": {
      "text/html": [
       "<div>\n",
       "<style scoped>\n",
       "    .dataframe tbody tr th:only-of-type {\n",
       "        vertical-align: middle;\n",
       "    }\n",
       "\n",
       "    .dataframe tbody tr th {\n",
       "        vertical-align: top;\n",
       "    }\n",
       "\n",
       "    .dataframe thead th {\n",
       "        text-align: right;\n",
       "    }\n",
       "</style>\n",
       "<table border=\"1\" class=\"dataframe\">\n",
       "  <thead>\n",
       "    <tr style=\"text-align: right;\">\n",
       "      <th></th>\n",
       "      <th>company_permalink</th>\n",
       "      <th>name</th>\n",
       "      <th>category_list</th>\n",
       "      <th>status</th>\n",
       "      <th>country_code</th>\n",
       "      <th>funding_round_type</th>\n",
       "      <th>funded_at</th>\n",
       "      <th>raised_amount_usd</th>\n",
       "      <th>total_amount_invested</th>\n",
       "      <th>primary_sector</th>\n",
       "      <th>main_sector</th>\n",
       "      <th>sum</th>\n",
       "      <th>len</th>\n",
       "    </tr>\n",
       "  </thead>\n",
       "  <tbody>\n",
       "    <tr>\n",
       "      <td>222</td>\n",
       "      <td>/organization/borro</td>\n",
       "      <td>Borro</td>\n",
       "      <td>Finance|Technology</td>\n",
       "      <td>operating</td>\n",
       "      <td>GBR</td>\n",
       "      <td>venture</td>\n",
       "      <td>2011-04-04</td>\n",
       "      <td>12.07</td>\n",
       "      <td>171.57</td>\n",
       "      <td>Finance</td>\n",
       "      <td>Social, Finance, Analytics, Advertising</td>\n",
       "      <td>1040.15</td>\n",
       "      <td>126.0</td>\n",
       "    </tr>\n",
       "  </tbody>\n",
       "</table>\n",
       "</div>"
      ],
      "text/plain": [
       "       company_permalink   name       category_list     status country_code  \\\n",
       "222  /organization/borro  Borro  Finance|Technology  operating          GBR   \n",
       "\n",
       "    funding_round_type   funded_at  raised_amount_usd  total_amount_invested  \\\n",
       "222            venture  2011-04-04              12.07                 171.57   \n",
       "\n",
       "    primary_sector                              main_sector      sum    len  \n",
       "222        Finance  Social, Finance, Analytics, Advertising  1040.15  126.0  "
      ]
     },
     "execution_count": 408,
     "metadata": {},
     "output_type": "execute_result"
    }
   ],
   "source": [
    "D2[D2.main_sector=='Social, Finance, Analytics, Advertising'].sort_values(by=['total_amount_invested','raised_amount_usd'], ascending=False).head(1)"
   ]
  },
  {
   "cell_type": "code",
   "execution_count": 409,
   "metadata": {},
   "outputs": [
    {
     "data": {
      "text/plain": [
       "Others                                     101\n",
       "Social, Finance, Analytics, Advertising     56\n",
       "News, Search and Messaging                  48\n",
       "Entertainment                               32\n",
       "Manufacturing                               21\n",
       "Cleantech / Semiconductors                  20\n",
       "Health                                      18\n",
       "Automotive & Sports                         13\n",
       "Name: main_sector, dtype: int64"
      ]
     },
     "execution_count": 409,
     "metadata": {},
     "output_type": "execute_result"
    }
   ],
   "source": [
    "D3.main_sector.value_counts().sort_values(ascending=False)"
   ]
  },
  {
   "cell_type": "code",
   "execution_count": 410,
   "metadata": {},
   "outputs": [
    {
     "data": {
      "text/html": [
       "<div>\n",
       "<style scoped>\n",
       "    .dataframe tbody tr th:only-of-type {\n",
       "        vertical-align: middle;\n",
       "    }\n",
       "\n",
       "    .dataframe tbody tr th {\n",
       "        vertical-align: top;\n",
       "    }\n",
       "\n",
       "    .dataframe thead th {\n",
       "        text-align: right;\n",
       "    }\n",
       "</style>\n",
       "<table border=\"1\" class=\"dataframe\">\n",
       "  <thead>\n",
       "    <tr style=\"text-align: right;\">\n",
       "      <th></th>\n",
       "      <th>company_permalink</th>\n",
       "      <th>name</th>\n",
       "      <th>category_list</th>\n",
       "      <th>status</th>\n",
       "      <th>country_code</th>\n",
       "      <th>funding_round_type</th>\n",
       "      <th>funded_at</th>\n",
       "      <th>raised_amount_usd</th>\n",
       "      <th>total_amount_invested</th>\n",
       "      <th>primary_sector</th>\n",
       "      <th>main_sector</th>\n",
       "      <th>sum</th>\n",
       "      <th>len</th>\n",
       "    </tr>\n",
       "  </thead>\n",
       "  <tbody>\n",
       "    <tr>\n",
       "      <td>72</td>\n",
       "      <td>/organization/myntra</td>\n",
       "      <td>Myntra</td>\n",
       "      <td>E-Commerce</td>\n",
       "      <td>acquired</td>\n",
       "      <td>IND</td>\n",
       "      <td>venture</td>\n",
       "      <td>2011-03-04</td>\n",
       "      <td>14.0</td>\n",
       "      <td>158.75</td>\n",
       "      <td>E-Commerce</td>\n",
       "      <td>Others</td>\n",
       "      <td>918.29</td>\n",
       "      <td>101.0</td>\n",
       "    </tr>\n",
       "  </tbody>\n",
       "</table>\n",
       "</div>"
      ],
      "text/plain": [
       "       company_permalink    name category_list    status country_code  \\\n",
       "72  /organization/myntra  Myntra    E-Commerce  acquired          IND   \n",
       "\n",
       "   funding_round_type   funded_at  raised_amount_usd  total_amount_invested  \\\n",
       "72            venture  2011-03-04               14.0                 158.75   \n",
       "\n",
       "   primary_sector main_sector     sum    len  \n",
       "72     E-Commerce      Others  918.29  101.0  "
      ]
     },
     "execution_count": 410,
     "metadata": {},
     "output_type": "execute_result"
    }
   ],
   "source": [
    "#top sector count-wise (point 3), which company received the highest investment\n",
    "D3[D3.main_sector=='Others'].sort_values(by=['total_amount_invested','raised_amount_usd'], ascending=False).head(1)"
   ]
  },
  {
   "cell_type": "code",
   "execution_count": 411,
   "metadata": {},
   "outputs": [
    {
     "data": {
      "text/html": [
       "<div>\n",
       "<style scoped>\n",
       "    .dataframe tbody tr th:only-of-type {\n",
       "        vertical-align: middle;\n",
       "    }\n",
       "\n",
       "    .dataframe tbody tr th {\n",
       "        vertical-align: top;\n",
       "    }\n",
       "\n",
       "    .dataframe thead th {\n",
       "        text-align: right;\n",
       "    }\n",
       "</style>\n",
       "<table border=\"1\" class=\"dataframe\">\n",
       "  <thead>\n",
       "    <tr style=\"text-align: right;\">\n",
       "      <th></th>\n",
       "      <th>company_permalink</th>\n",
       "      <th>name</th>\n",
       "      <th>category_list</th>\n",
       "      <th>status</th>\n",
       "      <th>country_code</th>\n",
       "      <th>funding_round_type</th>\n",
       "      <th>funded_at</th>\n",
       "      <th>raised_amount_usd</th>\n",
       "      <th>total_amount_invested</th>\n",
       "      <th>primary_sector</th>\n",
       "      <th>main_sector</th>\n",
       "      <th>sum</th>\n",
       "      <th>len</th>\n",
       "    </tr>\n",
       "  </thead>\n",
       "  <tbody>\n",
       "    <tr>\n",
       "      <td>220</td>\n",
       "      <td>/organization/shopclues-com</td>\n",
       "      <td>ShopClues.com</td>\n",
       "      <td>Consumer Internet|E-Commerce|Shopping</td>\n",
       "      <td>operating</td>\n",
       "      <td>IND</td>\n",
       "      <td>venture</td>\n",
       "      <td>2014-03-01</td>\n",
       "      <td>15.0</td>\n",
       "      <td>131.25</td>\n",
       "      <td>Consumer Internet</td>\n",
       "      <td>Social, Finance, Analytics, Advertising</td>\n",
       "      <td>507.55</td>\n",
       "      <td>56.0</td>\n",
       "    </tr>\n",
       "  </tbody>\n",
       "</table>\n",
       "</div>"
      ],
      "text/plain": [
       "               company_permalink           name  \\\n",
       "220  /organization/shopclues-com  ShopClues.com   \n",
       "\n",
       "                             category_list     status country_code  \\\n",
       "220  Consumer Internet|E-Commerce|Shopping  operating          IND   \n",
       "\n",
       "    funding_round_type   funded_at  raised_amount_usd  total_amount_invested  \\\n",
       "220            venture  2014-03-01               15.0                 131.25   \n",
       "\n",
       "        primary_sector                              main_sector     sum   len  \n",
       "220  Consumer Internet  Social, Finance, Analytics, Advertising  507.55  56.0  "
      ]
     },
     "execution_count": 411,
     "metadata": {},
     "output_type": "execute_result"
    }
   ],
   "source": [
    "#For the second-best sector count-wise (point 4), which company received the highest investment\n",
    "D3[D3.main_sector=='Social, Finance, Analytics, Advertising'].sort_values(by=['total_amount_invested','raised_amount_usd'], ascending=False).head(1)"
   ]
  }
 ],
 "metadata": {
  "kernelspec": {
   "display_name": "Python 3",
   "language": "python",
   "name": "python3"
  },
  "language_info": {
   "codemirror_mode": {
    "name": "ipython",
    "version": 3
   },
   "file_extension": ".py",
   "mimetype": "text/x-python",
   "name": "python",
   "nbconvert_exporter": "python",
   "pygments_lexer": "ipython3",
   "version": "3.7.4"
  }
 },
 "nbformat": 4,
 "nbformat_minor": 2
}
